{
  "nbformat": 4,
  "nbformat_minor": 0,
  "metadata": {
    "colab": {
      "name": "2021_train.ipynb",
      "provenance": [],
      "authorship_tag": "ABX9TyMY/Z9wm05o6aIS+eZcc0JB",
      "include_colab_link": true
    },
    "kernelspec": {
      "name": "python3",
      "display_name": "Python 3"
    },
    "language_info": {
      "name": "python"
    },
    "accelerator": "GPU"
  },
  "cells": [
    {
      "cell_type": "markdown",
      "metadata": {
        "id": "view-in-github",
        "colab_type": "text"
      },
      "source": [
        "<a href=\"https://colab.research.google.com/github/Murakami-Shoya/2021_school/blob/master/2021_train.ipynb\" target=\"_parent\"><img src=\"https://colab.research.google.com/assets/colab-badge.svg\" alt=\"Open In Colab\"/></a>"
      ]
    },
    {
      "cell_type": "code",
      "metadata": {
        "colab": {
          "base_uri": "https://localhost:8080/"
        },
        "id": "F8qjVVpiU3UW",
        "outputId": "b3f93cc8-6b14-4529-84ae-f7d45bed6d6a"
      },
      "source": [
        "from google.colab import drive\n",
        "drive.mount('/content/drive')"
      ],
      "execution_count": 1,
      "outputs": [
        {
          "output_type": "stream",
          "name": "stdout",
          "text": [
            "Mounted at /content/drive\n"
          ]
        }
      ]
    },
    {
      "cell_type": "code",
      "metadata": {
        "id": "uXILJrSSr6Qu"
      },
      "source": [
        "import numpy as np\n",
        "import pandas as pd\n",
        "import glob, random\n",
        "from sklearn.preprocessing import OneHotEncoder"
      ],
      "execution_count": 2,
      "outputs": []
    },
    {
      "cell_type": "code",
      "metadata": {
        "id": "RkrZ-5jSTUNT"
      },
      "source": [
        "# パスは変更のこと\n",
        "path = \"/content/drive/MyDrive/leap_dataset/hand_data_2021_test/\""
      ],
      "execution_count": 3,
      "outputs": []
    },
    {
      "cell_type": "markdown",
      "metadata": {
        "id": "K78sWBdZwyIQ"
      },
      "source": [
        "## データをすべてまとめる関数を作る"
      ]
    },
    {
      "cell_type": "code",
      "metadata": {
        "id": "mdKxeZWMxJ5G"
      },
      "source": [
        "def set_data(gesture_name):\n",
        "\n",
        "    random.seed(123)\n",
        "\n",
        "    # 1ジェスチャーが何フレームかでデータをスライスする量が変わる\n",
        "    frame_num = 50\n",
        "\n",
        "    output_df = pd.DataFrame()\n",
        "\n",
        "    all_files = glob.glob(path + gesture_name + \"*.csv\")\n",
        "    # ランダムに並べ替える\n",
        "    shuffled_all_files = random.sample(all_files, len(all_files))\n",
        "\n",
        "    for one_file in all_files:\n",
        "        one_df = pd.read_csv(one_file, sep=',')[:frame_num]\n",
        "        output_df = pd.concat([output_df, one_df])\n",
        "\n",
        "    # output_df.to_csv(\"./all_data_folder/all_cut_data.csv\",header=False,  index=False)\n",
        "    return output_df"
      ],
      "execution_count": 4,
      "outputs": []
    },
    {
      "cell_type": "markdown",
      "metadata": {
        "id": "t4esbMk41LKE"
      },
      "source": [
        "### 手のひら座標に変換する関数\n"
      ]
    },
    {
      "cell_type": "markdown",
      "metadata": {
        "id": "Rdqan7rt5EYV"
      },
      "source": [
        "引数はndarray\n",
        "返り値もndarray"
      ]
    },
    {
      "cell_type": "code",
      "metadata": {
        "id": "71PehQfl45Hs"
      },
      "source": [
        "def normalize(X):\n",
        "            \n",
        "    hands = X.reshape([-1, 27, 3])\n",
        "    joints = []\n",
        "\n",
        "    for hand in hands:\n",
        "        palm_position = hand[0]\n",
        "        direction = hand[1]\n",
        "        palm_y = hand[2]\n",
        "    \n",
        "        palm_x = np.cross(direction, palm_y,)\n",
        "\n",
        "        R = np.stack([palm_x, palm_y, direction])\n",
        "        R = np.linalg.inv(R)\n",
        "\n",
        "        joint = hand[3:]\n",
        "        joint = joint - palm_position\n",
        "\n",
        "        joint = np.dot(joint, R)\n",
        "\n",
        "        palm_position = np.dot(np.array([0.0, 0.0, 0.0]), R)\n",
        "        direction = np.dot(direction, R)\n",
        "        palm_y = np.dot(palm_y, R)\n",
        "\n",
        "        joint = np.vstack([palm_position, direction, palm_y, joint])\n",
        "\n",
        "        joints.append(joint)\n",
        "    # 返り値を1フレームごとのnumpy配列に変更\n",
        "    joints = np.array(joints).reshape([-1, 27*3])\n",
        "\n",
        "    return joints"
      ],
      "execution_count": 5,
      "outputs": []
    },
    {
      "cell_type": "markdown",
      "metadata": {
        "id": "TpaI40yTrBgG"
      },
      "source": [
        "## load_hand_data\n",
        "\n",
        "引数はファイル名のリスト、そのインデックス番号、学習用データ数"
      ]
    },
    {
      "cell_type": "markdown",
      "metadata": {
        "id": "kWe54QDNLS__"
      },
      "source": [
        "返り値はndarrayが4つのタプル"
      ]
    },
    {
      "cell_type": "code",
      "metadata": {
        "id": "svfEA9hxLSoq"
      },
      "source": [
        "def load_hand_data(gesture_df_list, index, train_rate=0.8):\n",
        "    output_size = len(gesture_df_list)\n",
        "\n",
        "    train_X = []\n",
        "    train_y = []\n",
        "    test_X = []\n",
        "    test_y = []\n",
        "\n",
        "    for i in range(output_size):\n",
        "        # data = gesture_df_list[i].values.reshape([-1, 27, 3])\n",
        "        data = gesture_df_list[i].values\n",
        "        data_len = len(data)\n",
        "        teacher = np.array([[1 if k == index[i] else 0 for k in range(output_size)] for _ in range(data_len)]) #教師データの生成(ワンホットベクトル)\n",
        "        \n",
        "        # 学習用と検証用に分ける(train_test_split)\n",
        "        train_frame_num = int(data_len * train_rate)\n",
        "        train_data = data[:train_frame_num]\n",
        "        test_data = data[train_frame_num:]\n",
        "        train_teacher = teacher[:train_frame_num]\n",
        "        test_teacher = teacher[train_frame_num:]\n",
        "        # 全てのジェスチャーを結合\n",
        "        train_X += train_data.tolist()\n",
        "        test_X += test_data.tolist()\n",
        "        train_y += train_teacher.tolist()\n",
        "        test_y += test_teacher.tolist()\n",
        "    # リストからndarrayに変換\n",
        "    train_X, test_X, train_y, test_y = np.array(train_X), np.array(test_X), np.array(train_y), np.array(test_y)\n",
        "\n",
        "    # 入力データは全て正規化を行う\n",
        "    train_X = normalize(train_X)\n",
        "    test_X = normalize(test_X)\n",
        "    # 指に関節座標のみ抽出\n",
        "    train_X = train_X[:, 3*3:]\n",
        "    test_X = test_X[:, 3*3:]\n",
        "\n",
        "    return train_X, test_X, train_y, test_y"
      ],
      "execution_count": 6,
      "outputs": []
    }
  ]
}